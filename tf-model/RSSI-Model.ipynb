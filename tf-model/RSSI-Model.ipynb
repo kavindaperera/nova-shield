{
 "cells": [
  {
   "cell_type": "markdown",
   "metadata": {},
   "source": [
    "# Using BLE RSSI Values to Classify Proximity with Deep Neural Networks"
   ]
  },
  {
   "cell_type": "code",
   "execution_count": 1,
   "metadata": {},
   "outputs": [],
   "source": [
    "import numpy as np\n",
    "from random import randint\n",
    "from sklearn.utils import shuffle\n",
    "from sklearn.preprocessing import MinMaxScaler"
   ]
  },
  {
   "cell_type": "markdown",
   "metadata": {},
   "source": [
    "## Data Preparation and Preprocessing "
   ]
  },
  {
   "cell_type": "code",
   "execution_count": 2,
   "metadata": {},
   "outputs": [],
   "source": [
    "train_labels = []\n",
    "train_samples = []"
   ]
  },
  {
   "cell_type": "code",
   "execution_count": 3,
   "metadata": {},
   "outputs": [],
   "source": [
    "for i in range(1000):\n",
    "    random_younger = randint(-98,-74)\n",
    "    train_samples.append(random_younger)\n",
    "    train_labels.append(0)\n",
    "    \n",
    "    random_older = randint(-73,-40)\n",
    "    train_samples.append(random_older)\n",
    "    train_labels.append(1)"
   ]
  },
  {
   "cell_type": "code",
   "execution_count": 4,
   "metadata": {},
   "outputs": [],
   "source": [
    "train_labels = np.array(train_labels)\n",
    "train_samples = np.array(train_samples)\n",
    "train_labels, train_samples = shuffle(train_labels, train_samples)"
   ]
  },
  {
   "cell_type": "code",
   "execution_count": 5,
   "metadata": {},
   "outputs": [
    {
     "name": "stdout",
     "output_type": "stream",
     "text": [
      "[-85 -98 -92 ... -40 -91 -81]\n"
     ]
    }
   ],
   "source": [
    "print(train_samples)"
   ]
  },
  {
   "cell_type": "code",
   "execution_count": 6,
   "metadata": {},
   "outputs": [],
   "source": [
    "# scaler = MinMaxScaler(feature_range=(0,1))\n",
    "# scaled_train_samples = scaler.fit_transform(train_samples.reshape(-1,1))"
   ]
  },
  {
   "cell_type": "code",
   "execution_count": 7,
   "metadata": {},
   "outputs": [],
   "source": [
    "# print(scaled_train_samples)"
   ]
  },
  {
   "cell_type": "markdown",
   "metadata": {},
   "source": [
    "## Simple tf.keras Sequential Model"
   ]
  },
  {
   "cell_type": "code",
   "execution_count": 8,
   "metadata": {},
   "outputs": [],
   "source": [
    "import tensorflow as tf\n",
    "from tensorflow import keras\n",
    "from tensorflow.keras.models import Sequential\n",
    "from tensorflow.keras.layers import Activation, Dense\n",
    "from tensorflow.keras.optimizers import Adam\n",
    "from tensorflow.keras.metrics import categorical_crossentropy"
   ]
  },
  {
   "cell_type": "code",
   "execution_count": 9,
   "metadata": {},
   "outputs": [
    {
     "name": "stdout",
     "output_type": "stream",
     "text": [
      "Avaialble:  0\n"
     ]
    }
   ],
   "source": [
    "physial_devices = tf.config.experimental.list_physical_devices('GPU')\n",
    "print(\"Avaialble: \", len(physial_devices))\n"
   ]
  },
  {
   "cell_type": "code",
   "execution_count": 10,
   "metadata": {},
   "outputs": [],
   "source": [
    "model = Sequential([\n",
    "    Dense(units=16, input_shape=(1,), activation='relu'), # irst hidden layer - 16 neurons\n",
    "    Dense(units=32, activation='relu'),\n",
    "    Dense(units=2, activation='softmax')\n",
    "])"
   ]
  },
  {
   "cell_type": "code",
   "execution_count": 11,
   "metadata": {},
   "outputs": [
    {
     "name": "stdout",
     "output_type": "stream",
     "text": [
      "Model: \"sequential\"\n",
      "_________________________________________________________________\n",
      "Layer (type)                 Output Shape              Param #   \n",
      "=================================================================\n",
      "dense (Dense)                (None, 16)                32        \n",
      "_________________________________________________________________\n",
      "dense_1 (Dense)              (None, 32)                544       \n",
      "_________________________________________________________________\n",
      "dense_2 (Dense)              (None, 2)                 66        \n",
      "=================================================================\n",
      "Total params: 642\n",
      "Trainable params: 642\n",
      "Non-trainable params: 0\n",
      "_________________________________________________________________\n"
     ]
    }
   ],
   "source": [
    "model.summary()"
   ]
  },
  {
   "cell_type": "code",
   "execution_count": 12,
   "metadata": {},
   "outputs": [],
   "source": [
    "model.compile(optimizer=Adam(learning_rate=0.0001), loss='sparse_categorical_crossentropy', metrics=['accuracy'])"
   ]
  },
  {
   "cell_type": "code",
   "execution_count": 13,
   "metadata": {},
   "outputs": [
    {
     "name": "stdout",
     "output_type": "stream",
     "text": [
      "Epoch 1/30\n",
      "180/180 - 0s - loss: 0.6723 - accuracy: 0.5017 - val_loss: 0.6710 - val_accuracy: 0.4850\n",
      "Epoch 2/30\n",
      "180/180 - 0s - loss: 0.6652 - accuracy: 0.5056 - val_loss: 0.6643 - val_accuracy: 0.4850\n",
      "Epoch 3/30\n",
      "180/180 - 0s - loss: 0.6618 - accuracy: 0.5017 - val_loss: 0.6558 - val_accuracy: 0.4850\n",
      "Epoch 4/30\n",
      "180/180 - 0s - loss: 0.6541 - accuracy: 0.5089 - val_loss: 0.6496 - val_accuracy: 0.4850\n",
      "Epoch 5/30\n",
      "180/180 - 0s - loss: 0.6483 - accuracy: 0.5256 - val_loss: 0.6431 - val_accuracy: 0.4850\n",
      "Epoch 6/30\n",
      "180/180 - 0s - loss: 0.6429 - accuracy: 0.5128 - val_loss: 0.6390 - val_accuracy: 0.6050\n",
      "Epoch 7/30\n",
      "180/180 - 0s - loss: 0.6357 - accuracy: 0.5428 - val_loss: 0.6308 - val_accuracy: 0.5600\n",
      "Epoch 8/30\n",
      "180/180 - 0s - loss: 0.6351 - accuracy: 0.5589 - val_loss: 0.6241 - val_accuracy: 0.5600\n",
      "Epoch 9/30\n",
      "180/180 - 0s - loss: 0.6260 - accuracy: 0.5756 - val_loss: 0.6212 - val_accuracy: 0.7250\n",
      "Epoch 10/30\n",
      "180/180 - 0s - loss: 0.6185 - accuracy: 0.5917 - val_loss: 0.6176 - val_accuracy: 0.8100\n",
      "Epoch 11/30\n",
      "180/180 - 0s - loss: 0.6136 - accuracy: 0.5967 - val_loss: 0.6061 - val_accuracy: 0.6050\n",
      "Epoch 12/30\n",
      "180/180 - 0s - loss: 0.6101 - accuracy: 0.6317 - val_loss: 0.6000 - val_accuracy: 0.6500\n",
      "Epoch 13/30\n",
      "180/180 - 0s - loss: 0.6043 - accuracy: 0.6656 - val_loss: 0.5974 - val_accuracy: 0.8100\n",
      "Epoch 14/30\n",
      "180/180 - 0s - loss: 0.5972 - accuracy: 0.6761 - val_loss: 0.5885 - val_accuracy: 0.6650\n",
      "Epoch 15/30\n",
      "180/180 - 0s - loss: 0.5928 - accuracy: 0.6633 - val_loss: 0.5825 - val_accuracy: 0.7250\n",
      "Epoch 16/30\n",
      "180/180 - 0s - loss: 0.5857 - accuracy: 0.7017 - val_loss: 0.5810 - val_accuracy: 0.6150\n",
      "Epoch 17/30\n",
      "180/180 - 0s - loss: 0.5806 - accuracy: 0.7089 - val_loss: 0.5712 - val_accuracy: 0.7900\n",
      "Epoch 18/30\n",
      "180/180 - 0s - loss: 0.5783 - accuracy: 0.7283 - val_loss: 0.5704 - val_accuracy: 0.6300\n",
      "Epoch 19/30\n",
      "180/180 - 0s - loss: 0.5699 - accuracy: 0.7372 - val_loss: 0.5752 - val_accuracy: 0.6000\n",
      "Epoch 20/30\n",
      "180/180 - 0s - loss: 0.5668 - accuracy: 0.7489 - val_loss: 0.5836 - val_accuracy: 0.5600\n",
      "Epoch 21/30\n",
      "180/180 - 0s - loss: 0.5614 - accuracy: 0.7517 - val_loss: 0.5497 - val_accuracy: 0.8700\n",
      "Epoch 22/30\n",
      "180/180 - 0s - loss: 0.5535 - accuracy: 0.7739 - val_loss: 0.5453 - val_accuracy: 0.7150\n",
      "Epoch 23/30\n",
      "180/180 - 0s - loss: 0.5490 - accuracy: 0.7839 - val_loss: 0.5395 - val_accuracy: 0.7250\n",
      "Epoch 24/30\n",
      "180/180 - 0s - loss: 0.5444 - accuracy: 0.7728 - val_loss: 0.5326 - val_accuracy: 0.8700\n",
      "Epoch 25/30\n",
      "180/180 - 0s - loss: 0.5404 - accuracy: 0.7922 - val_loss: 0.5277 - val_accuracy: 0.7750\n",
      "Epoch 26/30\n",
      "180/180 - 0s - loss: 0.5348 - accuracy: 0.7850 - val_loss: 0.5236 - val_accuracy: 0.9000\n",
      "Epoch 27/30\n",
      "180/180 - 0s - loss: 0.5291 - accuracy: 0.8044 - val_loss: 0.5240 - val_accuracy: 0.9550\n",
      "Epoch 28/30\n",
      "180/180 - 0s - loss: 0.5244 - accuracy: 0.8022 - val_loss: 0.5104 - val_accuracy: 0.8700\n",
      "Epoch 29/30\n",
      "180/180 - 0s - loss: 0.5180 - accuracy: 0.8272 - val_loss: 0.5047 - val_accuracy: 0.8700\n",
      "Epoch 30/30\n",
      "180/180 - 0s - loss: 0.5141 - accuracy: 0.8194 - val_loss: 0.5002 - val_accuracy: 0.8100\n"
     ]
    },
    {
     "data": {
      "text/plain": [
       "<tensorflow.python.keras.callbacks.History at 0x21b3e2aaa30>"
      ]
     },
     "execution_count": 13,
     "metadata": {},
     "output_type": "execute_result"
    }
   ],
   "source": [
    "model.fit(x=train_samples, y=train_labels, validation_split=0.1, batch_size=10, epochs=30, shuffle=True, verbose=2)"
   ]
  },
  {
   "cell_type": "markdown",
   "metadata": {},
   "source": [
    "## Process Test Data"
   ]
  },
  {
   "cell_type": "code",
   "execution_count": 14,
   "metadata": {},
   "outputs": [],
   "source": [
    "test_labels = []\n",
    "test_samples = []"
   ]
  },
  {
   "cell_type": "code",
   "execution_count": 15,
   "metadata": {},
   "outputs": [],
   "source": [
    "for i in range(200):\n",
    "    random_younger = randint(-98,-74)\n",
    "    test_samples.append(random_younger)\n",
    "    test_labels.append(0)\n",
    "    \n",
    "    random_older = randint(-73,-40)\n",
    "    test_samples.append(random_older)\n",
    "    test_labels.append(1)"
   ]
  },
  {
   "cell_type": "code",
   "execution_count": 16,
   "metadata": {},
   "outputs": [],
   "source": [
    "test_labels = np.array(test_labels)\n",
    "test_samples = np.array(test_samples)\n",
    "test_labels, test_samples = shuffle(test_labels, test_samples)"
   ]
  },
  {
   "cell_type": "code",
   "execution_count": 17,
   "metadata": {},
   "outputs": [],
   "source": [
    "# print(test_samples)"
   ]
  },
  {
   "cell_type": "code",
   "execution_count": 18,
   "metadata": {},
   "outputs": [],
   "source": [
    "# scaler = MinMaxScaler(feature_range=(0,1))\n",
    "# scaled_test_samples = scaler.fit_transform(test_samples.reshape(-1,1))"
   ]
  },
  {
   "cell_type": "code",
   "execution_count": 19,
   "metadata": {},
   "outputs": [],
   "source": [
    "# print(scaled_test_samples)"
   ]
  },
  {
   "cell_type": "markdown",
   "metadata": {},
   "source": [
    "## Predict"
   ]
  },
  {
   "cell_type": "code",
   "execution_count": 20,
   "metadata": {},
   "outputs": [],
   "source": [
    "prediction = model.predict(x=test_samples, batch_size=10, verbose=0)"
   ]
  },
  {
   "cell_type": "code",
   "execution_count": 21,
   "metadata": {},
   "outputs": [
    {
     "name": "stdout",
     "output_type": "stream",
     "text": [
      "[[0.49714828 0.50285167]\n",
      " [0.7390814  0.2609186 ]\n",
      " [0.56260556 0.43739444]\n",
      " [0.39983955 0.6001604 ]\n",
      " [0.5946731  0.4053269 ]\n",
      " [0.5300058  0.46999416]\n",
      " [0.513592   0.486408  ]\n",
      " [0.6852596  0.31474042]\n",
      " [0.7261968  0.2738032 ]\n",
      " [0.7390814  0.2609186 ]]\n"
     ]
    }
   ],
   "source": [
    "print(prediction[:10])"
   ]
  },
  {
   "cell_type": "code",
   "execution_count": 22,
   "metadata": {},
   "outputs": [],
   "source": [
    "rounded_prediction = np.argmax(prediction, axis=-1)"
   ]
  },
  {
   "cell_type": "code",
   "execution_count": 23,
   "metadata": {},
   "outputs": [
    {
     "name": "stdout",
     "output_type": "stream",
     "text": [
      "[1 0 0 1 0 0 0 0 0 0]\n"
     ]
    }
   ],
   "source": [
    "print(rounded_prediction[:10])"
   ]
  },
  {
   "cell_type": "code",
   "execution_count": 28,
   "metadata": {},
   "outputs": [
    {
     "data": {
      "text/plain": [
       "array([[0.797402  , 0.20259799]], dtype=float32)"
      ]
     },
     "execution_count": 28,
     "metadata": {},
     "output_type": "execute_result"
    }
   ],
   "source": [
    "model.predict([-100])"
   ]
  },
  {
   "cell_type": "code",
   "execution_count": null,
   "metadata": {},
   "outputs": [],
   "source": []
  },
  {
   "cell_type": "code",
   "execution_count": null,
   "metadata": {},
   "outputs": [],
   "source": []
  },
  {
   "cell_type": "code",
   "execution_count": 24,
   "metadata": {},
   "outputs": [],
   "source": [
    "from tensorflow import lite"
   ]
  },
  {
   "cell_type": "code",
   "execution_count": 25,
   "metadata": {},
   "outputs": [
    {
     "name": "stdout",
     "output_type": "stream",
     "text": [
      "WARNING:tensorflow:From C:\\Users\\KAVINDA\\anaconda3\\lib\\site-packages\\tensorflow\\python\\training\\tracking\\tracking.py:111: Model.state_updates (from tensorflow.python.keras.engine.training) is deprecated and will be removed in a future version.\n",
      "Instructions for updating:\n",
      "This property should not be used in TensorFlow 2.0, as updates are applied automatically.\n",
      "WARNING:tensorflow:From C:\\Users\\KAVINDA\\anaconda3\\lib\\site-packages\\tensorflow\\python\\training\\tracking\\tracking.py:111: Layer.updates (from tensorflow.python.keras.engine.base_layer) is deprecated and will be removed in a future version.\n",
      "Instructions for updating:\n",
      "This property should not be used in TensorFlow 2.0, as updates are applied automatically.\n",
      "INFO:tensorflow:Assets written to: C:\\Users\\KAVINDA\\AppData\\Local\\Temp\\tmpue1iyn_5\\assets\n"
     ]
    },
    {
     "data": {
      "text/plain": [
       "4248"
      ]
     },
     "execution_count": 25,
     "metadata": {},
     "output_type": "execute_result"
    }
   ],
   "source": [
    "converter = lite.TFLiteConverter.from_keras_model(model)\n",
    "tfmodel = converter.convert()\n",
    "open(\"linear.tflite\", \"wb\").write(tfmodel)"
   ]
  },
  {
   "cell_type": "markdown",
   "metadata": {},
   "source": []
  },
  {
   "cell_type": "code",
   "execution_count": null,
   "metadata": {},
   "outputs": [],
   "source": []
  },
  {
   "cell_type": "code",
   "execution_count": null,
   "metadata": {},
   "outputs": [],
   "source": []
  },
  {
   "cell_type": "code",
   "execution_count": null,
   "metadata": {},
   "outputs": [],
   "source": []
  }
 ],
 "metadata": {
  "kernelspec": {
   "display_name": "Python 3",
   "language": "python",
   "name": "python3"
  },
  "language_info": {
   "codemirror_mode": {
    "name": "ipython",
    "version": 3
   },
   "file_extension": ".py",
   "mimetype": "text/x-python",
   "name": "python",
   "nbconvert_exporter": "python",
   "pygments_lexer": "ipython3",
   "version": "3.8.3"
  }
 },
 "nbformat": 4,
 "nbformat_minor": 4
}
